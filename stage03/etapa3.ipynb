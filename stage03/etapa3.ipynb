{
 "cells": [
  {
   "cell_type": "markdown",
   "metadata": {},
   "source": [
    "# Modelo Relacional"
   ]
  },
  {
   "cell_type": "markdown",
   "metadata": {},
   "source": [
    "![Modelo Relacional](modelo.png)"
   ]
  },
  {
   "cell_type": "markdown",
   "metadata": {},
   "source": [
    "# Criando as tabelas"
   ]
  },
  {
   "cell_type": "markdown",
   "metadata": {},
   "source": [
    "### Problemas:\n",
    "1. Como relacionar com as taxas de suicídio se tem uma pra cada ano. (fazer uma média?)\n",
    "2. Como arrumar as tabelas de um jeito eficiente?\n",
    "3. Como juntar os csvs tudo num create table só?"
   ]
  },
  {
   "cell_type": "markdown",
   "metadata": {},
   "source": [
    "### Bases de dados:\n",
    "* Para tablea Paises: https://www.kaggle.com/tanuprabhu/list-of-countries-by-number-of-internet-users\n",
    "* https://www.kaggle.com/mathurinache/world-happiness-report?select=2020.csv\n",
    "* https://ourworldindata.org/suicide"
   ]
  },
  {
   "cell_type": "code",
   "execution_count": 2,
   "metadata": {},
   "outputs": [],
   "source": [
    "%defaultDatasource jdbc:h2:mem:db"
   ]
  },
  {
   "cell_type": "code",
   "execution_count": 65,
   "metadata": {},
   "outputs": [],
   "source": [
    "DROP TABLE IF EXISTS Paises;\n",
    "\n",
    "CREATE TABLE Paises (\n",
    "    name VARCHAR(200) NOT NULL,\n",
    "    users DOUBLE NOT NULL,\n",
    "    population DOUBLE NOT NULL,\n",
    "    PRIMARY KEY(name)\n",
    ") AS SELECT\n",
    "    name,\n",
    "    users,\n",
    "    population\n",
    "FROM CSVREAD('users.csv');"
   ]
  },
  {
   "cell_type": "code",
   "execution_count": 66,
   "metadata": {},
   "outputs": [
    {
     "data": {
      "application/vnd.jupyter.widget-view+json": {
       "model_id": "6eed7b38-1dbe-4279-a505-f646272d973e",
       "version_major": 2,
       "version_minor": 0
      },
      "method": "display_data"
     },
     "metadata": {},
     "output_type": "display_data"
    }
   ],
   "source": [
    "SELECT name, users, population, (users/population)*100 as Percentage FROM Paises order by name"
   ]
  },
  {
   "cell_type": "code",
   "execution_count": null,
   "metadata": {},
   "outputs": [],
   "source": []
  }
 ],
 "metadata": {
  "kernelspec": {
   "display_name": "SQL",
   "language": "SQL",
   "name": "sql"
  },
  "language_info": {
   "codemirror_mode": "sql",
   "file_extension": ".sql",
   "mimetype": "",
   "name": "SQL",
   "nbconverter_exporter": "",
   "version": ""
  },
  "toc": {
   "base_numbering": 1,
   "nav_menu": {},
   "number_sections": false,
   "sideBar": false,
   "skip_h1_title": false,
   "title_cell": "Table of Contents",
   "title_sidebar": "Contents",
   "toc_cell": false,
   "toc_position": {},
   "toc_section_display": false,
   "toc_window_display": false
  }
 },
 "nbformat": 4,
 "nbformat_minor": 4
}
