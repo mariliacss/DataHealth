{
 "cells": [
  {
   "cell_type": "code",
   "execution_count": 1,
   "metadata": {},
   "outputs": [],
   "source": [
    "%defaultDatasource jdbc:h2:mem:db"
   ]
  },
  {
   "cell_type": "markdown",
   "metadata": {},
   "source": [
    "# Tabela Mental Health Issues"
   ]
  },
  {
   "cell_type": "code",
   "execution_count": 27,
   "metadata": {},
   "outputs": [],
   "source": [
    "DROP TABLE IF EXISTS MentalHealthIssues;\n",
    "\n",
    "CREATE TABLE MentalHealthIssues (\n",
    "    pais VARCHAR(60) NOT NULL,\n",
    "    ano INT NOT NULL,\n",
    "    depressao DOUBLE NOT NULL,\n",
    "    ansiedade DOUBLE NOT NULL,\n",
    "    bipolaridade DOUBLE NOT NULL,\n",
    "    alimentar DOUBLE NOT NULL,\n",
    "    esquizofrenia DOUBLE NOT NULL\n",
    ") AS SELECT\n",
    "    Entity,\n",
    "    Year,\n",
    "    Depressive,\n",
    "    Bipolar,\n",
    "    Anxiety,\n",
    "    EatingDisorders,\n",
    "    Schizophrenia\n",
    "FROM CSVREAD('../data/external/mental-health-issues.csv');"
   ]
  },
  {
   "cell_type": "markdown",
   "metadata": {},
   "source": [
    "Foi necessários fazer manipulações manuais para mudar nome de colunas e remover vírgulas para não atrapalhar na leitura do CSV."
   ]
  },
  {
   "cell_type": "code",
   "execution_count": 28,
   "metadata": {},
   "outputs": [
    {
     "data": {
      "application/vnd.jupyter.widget-view+json": {
       "model_id": "c77c8c29-36dc-4f66-b0c4-9768b4481613",
       "version_major": 2,
       "version_minor": 0
      },
      "method": "display_data"
     },
     "metadata": {},
     "output_type": "display_data"
    }
   ],
   "source": [
    "select * from MentalHealthIssues"
   ]
  },
  {
   "cell_type": "markdown",
   "metadata": {},
   "source": [
    "## Países que fazem da nossa pesquisa"
   ]
  },
  {
   "cell_type": "code",
   "execution_count": 19,
   "metadata": {},
   "outputs": [
    {
     "data": {
      "application/vnd.jupyter.widget-view+json": {
       "model_id": "6a30f88f-3cf8-40fc-a04a-3190fbe46956",
       "version_major": 2,
       "version_minor": 0
      },
      "method": "display_data"
     },
     "metadata": {},
     "output_type": "display_data"
    }
   ],
   "source": [
    "Select distinct pais from MentalHealthIssues order by pais"
   ]
  },
  {
   "cell_type": "markdown",
   "metadata": {},
   "source": [
    "## Média de pessoas com depressão por país de 2000 até 2017"
   ]
  },
  {
   "cell_type": "code",
   "execution_count": null,
   "metadata": {},
   "outputs": [],
   "source": [
    "Select pais, AVG(depressao), AVG(ansiedade) from MentalHealthIssues where ano > 2000 group by pais order by pais"
   ]
  },
  {
   "cell_type": "markdown",
   "metadata": {},
   "source": [
    "## Tabelas de suicídio porcetagem"
   ]
  },
  {
   "cell_type": "code",
   "execution_count": 2,
   "metadata": {},
   "outputs": [],
   "source": [
    "DROP TABLE IF EXISTS ShareDeathsSuicide;\n",
    "\n",
    "CREATE TABLE ShareDeathsSuicide (\n",
    "    pais VARCHAR(60) NOT NULL,\n",
    "    codigo VARCHAR(10),\n",
    "    ano INT NOT NULL,\n",
    "    porcentagemDeMortes DOUBLE NOT NULL\n",
    ") AS SELECT\n",
    "    Entity,\n",
    "    Code,\n",
    "    Year,\n",
    "    Percent\n",
    "FROM CSVREAD('../data/external/share-deaths-suicide.csv');"
   ]
  },
  {
   "cell_type": "code",
   "execution_count": 3,
   "metadata": {},
   "outputs": [
    {
     "data": {
      "application/vnd.jupyter.widget-view+json": {
       "model_id": "5dca3647-02a4-4f0b-a025-fc5f549bc10b",
       "version_major": 2,
       "version_minor": 0
      },
      "method": "display_data"
     },
     "metadata": {},
     "output_type": "display_data"
    }
   ],
   "source": [
    "select * from ShareDeathsSuicide"
   ]
  },
  {
   "cell_type": "markdown",
   "metadata": {},
   "source": [
    "## Tabelas de suicídio rates por sexo"
   ]
  },
  {
   "cell_type": "code",
   "execution_count": 4,
   "metadata": {},
   "outputs": [],
   "source": [
    "DROP TABLE IF EXISTS RatesDeathsSuicide;\n",
    "\n",
    "CREATE TABLE RatesDeathsSuicide (\n",
    "    pais VARCHAR(60) NOT NULL,\n",
    "    codigo VARCHAR(10),\n",
    "    ano INT NOT NULL,\n",
    "    RatesDeaths DOUBLE,\n",
    "    RatesDeathsMale DOUBLE,\n",
    "    RatesDeathsFemale DOUBLE\n",
    ") AS SELECT\n",
    "    Entity,\n",
    "    Code,\n",
    "    Year,\n",
    "    Rate,\n",
    "    MaleRate,\n",
    "    FemaleRate  \n",
    "FROM CSVREAD('../data/external/suicide-death-rates-by-sex.csv');"
   ]
  },
  {
   "cell_type": "code",
   "execution_count": 10,
   "metadata": {},
   "outputs": [
    {
     "data": {
      "application/vnd.jupyter.widget-view+json": {
       "model_id": "b0740b91-bfb0-43e9-aed7-c1fa2b8283fd",
       "version_major": 2,
       "version_minor": 0
      },
      "method": "display_data"
     },
     "metadata": {},
     "output_type": "display_data"
    }
   ],
   "source": [
    "select * from RatesDeathsSuicide order by pais"
   ]
  },
  {
   "cell_type": "markdown",
   "metadata": {},
   "source": [
    "## Tabelas de suicídio rates por idade"
   ]
  },
  {
   "cell_type": "code",
   "execution_count": 6,
   "metadata": {},
   "outputs": [],
   "source": [
    "DROP TABLE IF EXISTS RatesDetailedDeathsSuicide;\n",
    "\n",
    "CREATE TABLE RatesDetailedDeathsSuicide (\n",
    "    pais VARCHAR(60) NOT NULL,\n",
    "    codigo VARCHAR(10),\n",
    "    ano INT NOT NULL,\n",
    "    RatesDeaths DOUBLE,\n",
    "    RatesDeaths514 DOUBLE,\n",
    "    RatesDeaths1549 DOUBLE,\n",
    "    RatesDeaths5069 DOUBLE,\n",
    "    RatesDeaths70 DOUBLE\n",
    ") AS SELECT\n",
    "    Entity,\n",
    "    Code,\n",
    "    Year,\n",
    "    Rate,\n",
    "    Age514,\n",
    "    Age1549,\n",
    "    Age5069,\n",
    "    Age70\n",
    "FROM CSVREAD('../data/external/suicide-rates-by-age-detailed.csv');"
   ]
  },
  {
   "cell_type": "code",
   "execution_count": 11,
   "metadata": {},
   "outputs": [
    {
     "data": {
      "application/vnd.jupyter.widget-view+json": {
       "model_id": "ecb77ccd-9dff-47b8-87a2-7dee215f1022",
       "version_major": 2,
       "version_minor": 0
      },
      "method": "display_data"
     },
     "metadata": {},
     "output_type": "display_data"
    }
   ],
   "source": [
    "select * from RatesDetailedDeathsSuicide order by pais"
   ]
  },
  {
   "cell_type": "markdown",
   "metadata": {},
   "source": [
    "## Comentários:\n",
    "* Pensei que a gente poderia analisar as doenças: \n",
    "    * depressão\n",
    "    * ansiedade\n",
    "    * bipolaridade\n",
    "    * problemas alimentares\n",
    "    * esquizofrenia."
   ]
  },
  {
   "cell_type": "markdown",
   "metadata": {},
   "source": [
    "## Dúvidas:\n",
    "\n",
    "* Não sei como colocar as partes de **Valor Absoluto** e **Valor Relativo**.\n",
    "* Estou com dúvida a respeito dos valores por causa do ponto, não sei se estão certos (as vezes ele ta lendo errado, não sei).\n",
    "* Pra fazer gráficos ao longo do tempo, por exemplo, como poderíamos juntar aqui com Python?\n",
    "* E as chaves primárias para fazer as relações com as tabelas? (escolher duas colunas?)\n",
    "* Como exportar para csv as tabelas."
   ]
  },
  {
   "cell_type": "code",
   "execution_count": null,
   "metadata": {},
   "outputs": [],
   "source": []
  }
 ],
 "metadata": {
  "kernelspec": {
   "display_name": "SQL",
   "language": "SQL",
   "name": "sql"
  },
  "language_info": {
   "codemirror_mode": "sql",
   "file_extension": ".sql",
   "mimetype": "",
   "name": "SQL",
   "nbconverter_exporter": "",
   "version": ""
  },
  "toc": {
   "base_numbering": 1,
   "nav_menu": {},
   "number_sections": false,
   "sideBar": false,
   "skip_h1_title": false,
   "title_cell": "Table of Contents",
   "title_sidebar": "Contents",
   "toc_cell": false,
   "toc_position": {},
   "toc_section_display": false,
   "toc_window_display": false
  }
 },
 "nbformat": 4,
 "nbformat_minor": 4
}
