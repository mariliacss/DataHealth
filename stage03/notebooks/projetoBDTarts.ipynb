{
 "cells": [
  {
   "cell_type": "code",
   "execution_count": 1,
   "metadata": {},
   "outputs": [],
   "source": [
    "%defaultDatasource jdbc:h2:mem:db"
   ]
  },
  {
   "cell_type": "markdown",
   "metadata": {},
   "source": [
    "# Tabela Mental Health Issues"
   ]
  },
  {
   "cell_type": "code",
   "execution_count": 17,
   "metadata": {},
   "outputs": [],
   "source": [
    "DROP TABLE IF EXISTS MentalHealthIssues;\n",
    "\n",
    "CREATE TABLE MentalHealthIssues (\n",
    "    pais VARCHAR(60) NOT NULL,\n",
    "    ano INT NOT NULL,\n",
    "    depressao DOUBLE NOT NULL,\n",
    "    ansiedade DOUBLE NOT NULL,\n",
    "    bipolaridade DOUBLE NOT NULL,\n",
    "    alimentar DOUBLE NOT NULL,\n",
    "    esquizofrenia DOUBLE NOT NULL\n",
    ") AS SELECT\n",
    "    Entity,\n",
    "    Year,\n",
    "    Depressive,\n",
    "    Bipolar,\n",
    "    Anxiety,\n",
    "    EatingDisorders,\n",
    "    Schizophrenia\n",
    "FROM CSVREAD('mental-health-issues.csv');"
   ]
  },
  {
   "cell_type": "markdown",
   "metadata": {},
   "source": [
    "Foi necessários fazer manipulações manuais para mudar nome de colunas e remover vírgulas para não atrapalhar na leitura do CSV."
   ]
  },
  {
   "cell_type": "code",
   "execution_count": 21,
   "metadata": {},
   "outputs": [
    {
     "data": {
      "application/vnd.jupyter.widget-view+json": {
       "model_id": "ba688fc2-e9a9-4576-84e5-c2f22e165053",
       "version_major": 2,
       "version_minor": 0
      },
      "method": "display_data"
     },
     "metadata": {},
     "output_type": "display_data"
    }
   ],
   "source": [
    "select * from MentalHealthIssues"
   ]
  },
  {
   "cell_type": "markdown",
   "metadata": {},
   "source": [
    "## Países que fazem da nossa pesquisa"
   ]
  },
  {
   "cell_type": "code",
   "execution_count": 19,
   "metadata": {},
   "outputs": [
    {
     "data": {
      "application/vnd.jupyter.widget-view+json": {
       "model_id": "6a30f88f-3cf8-40fc-a04a-3190fbe46956",
       "version_major": 2,
       "version_minor": 0
      },
      "method": "display_data"
     },
     "metadata": {},
     "output_type": "display_data"
    }
   ],
   "source": [
    "Select distinct pais from MentalHealthIssues order by pais"
   ]
  },
  {
   "cell_type": "markdown",
   "metadata": {},
   "source": [
    "## Média de pessoas com depressão por país de 2000 até 2017"
   ]
  },
  {
   "cell_type": "code",
   "execution_count": null,
   "metadata": {},
   "outputs": [],
   "source": [
    "Select pais, AVG(depressao), AVG(ansiedade) from MentalHealthIssues where ano > 2000 group by pais order by pais"
   ]
  },
  {
   "cell_type": "markdown",
   "metadata": {},
   "source": [
    "## Tabelas de suicídio porcetagem"
   ]
  },
  {
   "cell_type": "code",
   "execution_count": null,
   "metadata": {},
   "outputs": [],
   "source": [
    "DROP TABLE IF EXISTS PercentDeathsSuicide;\n",
    "\n",
    "CREATE TABLE ShareDeathsSuicide (\n",
    "    pais VARCHAR(60) NOT NULL,\n",
    "    codigo VARCHAR(5) NOT NULL,\n",
    "    ano INT NOT NULL,\n",
    "    porcentagemDeMortes DOUBLE NOT NULL\n",
    ") AS SELECT\n",
    "    Entity,\n",
    "    Code,\n",
    "    Year,\n",
    "    Percent\n",
    "FROM CSVREAD('share-deaths-suicide.csv');"
   ]
  },
  {
   "cell_type": "markdown",
   "metadata": {},
   "source": [
    "## Tabelas de suicídio rates"
   ]
  },
  {
   "cell_type": "code",
   "execution_count": null,
   "metadata": {},
   "outputs": [],
   "source": [
    "DROP TABLE IF EXISTS RatesDeathsSuicide;\n",
    "\n",
    "CREATE TABLE RatesDeathsSuicide (\n",
    "    pais VARCHAR(60) NOT NULL,\n",
    "    codigo VARCHAR(5) NOT NULL,\n",
    "    ano INT NOT NULL,\n",
    "    RatesDeaths DOUBLE NOT NULL,\n",
    "    RatesDeathsMale DOUBLE NOT NULL,\n",
    "    RatesDeathsFemale DOUBLE NOT NULL\n",
    ") AS SELECT\n",
    "    Entity,\n",
    "    Code,\n",
    "    Year,\n",
    "    Rate,\n",
    "    MaleRate,\n",
    "    FamaleRate  \n",
    "FROM CSVREAD('suicide-death-rates-by-sex.csv');"
   ]
  },
  {
   "cell_type": "markdown",
   "metadata": {},
   "source": [
    "## Tabelas de suicídio rates detailed"
   ]
  },
  {
   "cell_type": "code",
   "execution_count": null,
   "metadata": {},
   "outputs": [],
   "source": [
    "DROP TABLE IF EXISTS RatesDetailedDeathsSuicide;\n",
    "\n",
    "CREATE TABLE RatesDetailedDeathsSuicide (\n",
    "    pais VARCHAR(60) NOT NULL,\n",
    "    codigo VARCHAR(5) NOT NULL,\n",
    "    ano INT NOT NULL,\n",
    "    RatesDeaths DOUBLE NOT NULL,\n",
    "    RatesDeaths5-14 DOUBLE NOT NULL,\n",
    "    RatesDeaths15-49 DOUBLE NOT NULL,\n",
    "    RatesDeaths50-69 DOUBLE NOT NULL,\n",
    "    RatesDeaths+70 DOUBLE NOT NULL\n",
    ") AS SELECT\n",
    "    Entity,\n",
    "    Code,\n",
    "    Year,\n",
    "    Rate,\n",
    "    Age 5-14 years Rate,\n",
    "    Age 15-49 years Rate,\n",
    "    Age 50-69 years Rate,\n",
    "    Age 70+ years Rate\n",
    "FROM CSVREAD('suicide-rates-by-age-detailed.csv');"
   ]
  },
  {
   "cell_type": "markdown",
   "metadata": {},
   "source": [
    "## Comentários:\n",
    "* Pensei que a gente poderia analisar as doenças: \n",
    "    * depressão\n",
    "    * ansiedade\n",
    "    * bipolaridade\n",
    "    * problemas alimentares\n",
    "    * esquizofrenia."
   ]
  },
  {
   "cell_type": "markdown",
   "metadata": {},
   "source": [
    "## Dúvidas:\n",
    "* Tem problema deixa um atributo para cada doença?\n",
    "* Não sei como colocar as partes de **Valor Absoluto** e **Valor Relativo**.\n",
    "* Esou com dúvida a respeito dos valores por causa do ponto, não sei se estão certos (as vezes ele ta lendo errado, não sei).\n",
    "* Pra fazer gráficos ao longo do tempo, por exemplo, como poderíamos juntar aqui com Python?"
   ]
  },
  {
   "cell_type": "code",
   "execution_count": null,
   "metadata": {},
   "outputs": [],
   "source": []
  }
 ],
 "metadata": {
  "kernelspec": {
   "display_name": "SQL",
   "language": "SQL",
   "name": "sql"
  },
  "language_info": {
   "codemirror_mode": "sql",
   "file_extension": ".sql",
   "mimetype": "",
   "name": "SQL",
   "nbconverter_exporter": "",
   "version": ""
  },
  "toc": {
   "base_numbering": 1,
   "nav_menu": {},
   "number_sections": false,
   "sideBar": false,
   "skip_h1_title": false,
   "title_cell": "Table of Contents",
   "title_sidebar": "Contents",
   "toc_cell": false,
   "toc_position": {},
   "toc_section_display": false,
   "toc_window_display": false
  }
 },
 "nbformat": 4,
 "nbformat_minor": 4
}
