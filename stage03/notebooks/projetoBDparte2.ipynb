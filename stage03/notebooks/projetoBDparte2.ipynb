{
 "cells": [
  {
   "cell_type": "code",
   "execution_count": 1,
   "metadata": {},
   "outputs": [],
   "source": [
    "%defaultDatasource jdbc:h2:mem:db"
   ]
  },
  {
   "cell_type": "markdown",
   "metadata": {},
   "source": [
    "# Tabela Mental Health Issues\n",
    "Tabela com os dados de números de pessoas, por país, com as seguintes doneças:\n",
    "* depressão\n",
    "* ansiedade\n",
    "* bipolaridade\n",
    "* problemas alimentares\n",
    "* esquizofrenia."
   ]
  },
  {
   "cell_type": "code",
   "execution_count": 2,
   "metadata": {},
   "outputs": [],
   "source": [
    "DROP TABLE IF EXISTS MentalHealthIssues;\n",
    "\n",
    "CREATE TABLE MentalHealthIssues (\n",
    "    pais VARCHAR(60) NOT NULL,\n",
    "    ano INT NOT NULL,\n",
    "    depressao DOUBLE NOT NULL,\n",
    "    ansiedade DOUBLE NOT NULL,\n",
    "    bipolaridade DOUBLE NOT NULL,\n",
    "    alimentar DOUBLE NOT NULL,\n",
    "    esquizofrenia DOUBLE NOT NULL\n",
    ") AS SELECT\n",
    "    Entity,\n",
    "    Year,\n",
    "    Depressive,\n",
    "    Bipolar,\n",
    "    Anxiety,\n",
    "    EatingDisorders,\n",
    "    Schizophrenia\n",
    "FROM CSVREAD('../data/external/mental-health-issues.csv');"
   ]
  },
  {
   "cell_type": "markdown",
   "metadata": {},
   "source": [
    "Foi necessários fazer manipulações manuais para mudar nome de colunas e remover vírgulas para não atrapalhar na leitura do CSV."
   ]
  },
  {
   "cell_type": "code",
   "execution_count": 38,
   "metadata": {},
   "outputs": [
    {
     "data": {
      "application/vnd.jupyter.widget-view+json": {
       "model_id": "1e77bbb3-2317-49b9-a8a3-0db0724775e2",
       "version_major": 2,
       "version_minor": 0
      },
      "method": "display_data"
     },
     "metadata": {},
     "output_type": "display_data"
    }
   ],
   "source": [
    "select * from MentalHealthIssues"
   ]
  },
  {
   "cell_type": "markdown",
   "metadata": {},
   "source": [
    "## Média de pessoas com depressão por país de 2000 até 2017"
   ]
  },
  {
   "cell_type": "code",
   "execution_count": null,
   "metadata": {},
   "outputs": [],
   "source": [
    "Select pais, AVG(depressao), AVG(ansiedade) from MentalHealthIssues where ano > 2000 group by pais order by pais"
   ]
  },
  {
   "cell_type": "markdown",
   "metadata": {},
   "source": [
    "## Tabelas de suicídio porcetagem"
   ]
  },
  {
   "cell_type": "code",
   "execution_count": 2,
   "metadata": {},
   "outputs": [],
   "source": [
    "DROP TABLE IF EXISTS ShareDeathsSuicide;\n",
    "\n",
    "CREATE TABLE ShareDeathsSuicide (\n",
    "    pais VARCHAR(60) NOT NULL,\n",
    "    codigo VARCHAR(10),\n",
    "    ano INT NOT NULL,\n",
    "    porcentagemDeMortes DOUBLE NOT NULL\n",
    ") AS SELECT\n",
    "    Entity,\n",
    "    Code,\n",
    "    Year,\n",
    "    Percent\n",
    "FROM CSVREAD('../data/external/share-deaths-suicide.csv');"
   ]
  },
  {
   "cell_type": "code",
   "execution_count": 3,
   "metadata": {},
   "outputs": [
    {
     "data": {
      "application/vnd.jupyter.widget-view+json": {
       "model_id": "5dca3647-02a4-4f0b-a025-fc5f549bc10b",
       "version_major": 2,
       "version_minor": 0
      },
      "method": "display_data"
     },
     "metadata": {},
     "output_type": "display_data"
    }
   ],
   "source": [
    "select * from ShareDeathsSuicide"
   ]
  },
  {
   "cell_type": "markdown",
   "metadata": {},
   "source": [
    "## Tabelas de suicídio rates por sexo"
   ]
  },
  {
   "cell_type": "code",
   "execution_count": 3,
   "metadata": {},
   "outputs": [],
   "source": [
    "DROP TABLE IF EXISTS RatesDeathsSuicide;\n",
    "\n",
    "CREATE TABLE RatesDeathsSuicide (\n",
    "    pais VARCHAR(60) NOT NULL,\n",
    "    codigo VARCHAR(10),\n",
    "    ano INT NOT NULL,\n",
    "    RatesDeaths DOUBLE,\n",
    "    RatesDeathsMale DOUBLE,\n",
    "    RatesDeathsFemale DOUBLE\n",
    ") AS SELECT\n",
    "    Entity,\n",
    "    Code,\n",
    "    Year,\n",
    "    Rate,\n",
    "    MaleRate,\n",
    "    FemaleRate  \n",
    "FROM CSVREAD('../data/external/suicide-death-rates-by-sex.csv');"
   ]
  },
  {
   "cell_type": "code",
   "execution_count": 40,
   "metadata": {},
   "outputs": [
    {
     "data": {
      "application/vnd.jupyter.widget-view+json": {
       "model_id": "0c881f9b-fafe-442d-9875-22f6ddb0446b",
       "version_major": 2,
       "version_minor": 0
      },
      "method": "display_data"
     },
     "metadata": {},
     "output_type": "display_data"
    }
   ],
   "source": [
    "select * from RatesDeathsSuicide order by pais"
   ]
  },
  {
   "cell_type": "markdown",
   "metadata": {},
   "source": [
    "## Tabelas de suicídio rates por idade"
   ]
  },
  {
   "cell_type": "code",
   "execution_count": 43,
   "metadata": {},
   "outputs": [],
   "source": [
    "DROP TABLE IF EXISTS RatesDetailedDeathsSuicide;\n",
    "\n",
    "CREATE TABLE RatesDetailedDeathsSuicide (\n",
    "    pais VARCHAR(60) NOT NULL,\n",
    "    codigo VARCHAR(10),\n",
    "    ano INT NOT NULL,\n",
    "    RatesDeaths DOUBLE,\n",
    "    RatesDeaths514 DOUBLE,\n",
    "    RatesDeaths1549 DOUBLE,\n",
    "    RatesDeaths5069 DOUBLE,\n",
    "    RatesDeaths70 DOUBLE\n",
    ") AS SELECT\n",
    "    Entity,\n",
    "    Code,\n",
    "    Year,\n",
    "    Rate,\n",
    "    Age514,\n",
    "    Age1549,\n",
    "    Age5069,\n",
    "    Age70\n",
    "FROM CSVREAD('../data/external/suicide-rates-by-age-detailed.csv');"
   ]
  },
  {
   "cell_type": "code",
   "execution_count": 44,
   "metadata": {},
   "outputs": [
    {
     "data": {
      "application/vnd.jupyter.widget-view+json": {
       "model_id": "336d1a4c-9808-4621-94c5-ec9a2b15ee58",
       "version_major": 2,
       "version_minor": 0
      },
      "method": "display_data"
     },
     "metadata": {},
     "output_type": "display_data"
    }
   ],
   "source": [
    "select * from RatesDetailedDeathsSuicide order by pais"
   ]
  },
  {
   "cell_type": "markdown",
   "metadata": {},
   "source": [
    "## Dúvidas:\n",
    "\n",
    "* Não sei como colocar as partes de **Valor Absoluto** e **Valor Relativo**.\n",
    "* Estou com dúvida a respeito dos valores por causa do ponto, não sei se estão certos (as vezes ele ta lendo errado, não sei).\n",
    "* Pra fazer gráficos ao longo do tempo, por exemplo, como poderíamos juntar aqui com Python?\n",
    "* E as chaves primárias para fazer as relações com as tabelas? (escolher duas colunas?)\n",
    "* Como exportar para csv as tabelas."
   ]
  },
  {
   "cell_type": "markdown",
   "metadata": {},
   "source": [
    "# Paises"
   ]
  },
  {
   "cell_type": "code",
   "execution_count": 6,
   "metadata": {},
   "outputs": [
    {
     "data": {
      "application/vnd.jupyter.widget-view+json": {
       "model_id": "bcc25563-45e6-46d7-8e08-2a02e021e265",
       "version_major": 2,
       "version_minor": 0
      },
      "method": "display_data"
     },
     "metadata": {},
     "output_type": "display_data"
    }
   ],
   "source": [
    "Select distinct RatesDeathsSuicide.pais\n",
    "from RatesDeathsSuicide, MentalHealthIssues\n",
    "where RatesDeathsSuicide.pais = MentalHealthIssues.pais\n",
    "and RatesDeathsSuicide.ano = MentalHealthIssues.ano\n",
    "order by pais"
   ]
  },
  {
   "cell_type": "markdown",
   "metadata": {},
   "source": [
    "# Queries"
   ]
  },
  {
   "cell_type": "markdown",
   "metadata": {},
   "source": [
    "## Top 3 doenças que mais aparecem nos países com maior taxa de suicídio."
   ]
  },
  {
   "cell_type": "markdown",
   "metadata": {},
   "source": [
    "1- Meida da taxa de mortes por suicidio para cada pais em ordem do maior para o menor"
   ]
  },
  {
   "cell_type": "code",
   "execution_count": 10,
   "metadata": {},
   "outputs": [],
   "source": [
    "DROP VIEW IF EXISTS maioresTaxas;\n",
    "\n",
    "CREATE VIEW maioresTaxas AS\n",
    "select top 10 pais, AVG(RatesDeaths) as media from RatesDeathsSuicide\n",
    "group by pais\n",
    "order by media desc"
   ]
  },
  {
   "cell_type": "code",
   "execution_count": 11,
   "metadata": {},
   "outputs": [
    {
     "data": {
      "application/vnd.jupyter.widget-view+json": {
       "model_id": "95840ab1-cfed-4a59-b26a-9c4168ff3e3d",
       "version_major": 2,
       "version_minor": 0
      },
      "method": "display_data"
     },
     "metadata": {},
     "output_type": "display_data"
    }
   ],
   "source": [
    "select * from maioresTaxas"
   ]
  },
  {
   "cell_type": "markdown",
   "metadata": {},
   "source": [
    "## Transformando colunas em linhas\n",
    "### Tabela Depressão"
   ]
  },
  {
   "cell_type": "code",
   "execution_count": 12,
   "metadata": {},
   "outputs": [],
   "source": [
    "DROP TABLE IF EXISTS Depressao;\n",
    "\n",
    "CREATE TABLE Depressao (\n",
    "    pais VARCHAR(60) NOT NULL,\n",
    "    ano INT NOT NULL,\n",
    "    disease VARCHAR(20),\n",
    "    rate DOUBLE\n",
    ") as  Select MentalHealthIssues.pais, MentalHealthIssues.ano, 'depressao', depressao \n",
    "from MentalHealthIssues"
   ]
  },
  {
   "cell_type": "code",
   "execution_count": 13,
   "metadata": {},
   "outputs": [
    {
     "data": {
      "application/vnd.jupyter.widget-view+json": {
       "model_id": "1f18dc98-583c-4055-b7db-2347c715d4f7",
       "version_major": 2,
       "version_minor": 0
      },
      "method": "display_data"
     },
     "metadata": {},
     "output_type": "display_data"
    }
   ],
   "source": [
    "select * from Depressao"
   ]
  },
  {
   "cell_type": "markdown",
   "metadata": {},
   "source": [
    "### Tabela Ansiedade"
   ]
  },
  {
   "cell_type": "code",
   "execution_count": 14,
   "metadata": {},
   "outputs": [],
   "source": [
    "DROP TABLE IF EXISTS Ansiedade;\n",
    "\n",
    "CREATE TABLE Ansiedade (\n",
    "    pais VARCHAR(60) NOT NULL,\n",
    "    ano INT NOT NULL,\n",
    "    disease VARCHAR(20),\n",
    "    rate DOUBLE\n",
    ") as  Select MentalHealthIssues.pais, MentalHealthIssues.ano, 'ansiedade', ansiedade \n",
    "from MentalHealthIssues"
   ]
  },
  {
   "cell_type": "code",
   "execution_count": 15,
   "metadata": {},
   "outputs": [
    {
     "data": {
      "application/vnd.jupyter.widget-view+json": {
       "model_id": "d611c7d2-5b76-4fdb-a4e7-15134c384723",
       "version_major": 2,
       "version_minor": 0
      },
      "method": "display_data"
     },
     "metadata": {},
     "output_type": "display_data"
    }
   ],
   "source": [
    "select * from Ansiedade"
   ]
  },
  {
   "cell_type": "markdown",
   "metadata": {},
   "source": [
    "### Juntando as doenças em uma tabela só"
   ]
  },
  {
   "cell_type": "code",
   "execution_count": 16,
   "metadata": {},
   "outputs": [],
   "source": [
    "DROP TABLE IF EXISTS TodasAsDoencas;\n",
    "\n",
    "CREATE TABLE TodasAsDoencas (\n",
    "    pais VARCHAR(60) NOT NULL,\n",
    "    ano INT NOT NULL,\n",
    "    disease VARCHAR(20),\n",
    "    rate DOUBLE\n",
    ") as  Select pais, ano, disease, rate \n",
    "from Depressao\n",
    "union \n",
    "Select pais, ano, disease, rate \n",
    "from Ansiedade"
   ]
  },
  {
   "cell_type": "code",
   "execution_count": 18,
   "metadata": {},
   "outputs": [
    {
     "data": {
      "application/vnd.jupyter.widget-view+json": {
       "model_id": "c0683d2b-e3a0-44bc-a549-73b0928dee19",
       "version_major": 2,
       "version_minor": 0
      },
      "method": "display_data"
     },
     "metadata": {},
     "output_type": "display_data"
    }
   ],
   "source": [
    "select * from TodasAsDoencas\n",
    "order by pais"
   ]
  },
  {
   "cell_type": "markdown",
   "metadata": {},
   "source": [
    "## Selcionado a maior doença a partir da tabela anterior transformada em linha para todadas as doenças\n",
    "### Selecionando a média para cada doença"
   ]
  },
  {
   "cell_type": "code",
   "execution_count": 19,
   "metadata": {},
   "outputs": [],
   "source": [
    "DROP view IF EXISTS maiorDoenca;\n",
    "\n",
    "CREATE view maiorDoenca as\n",
    "select pais, disease, AVG(rate) as mediaTaxa from TodasAsDoencas\n",
    "group by pais, disease\n",
    "order by pais, mediaTaxa desc"
   ]
  },
  {
   "cell_type": "code",
   "execution_count": 20,
   "metadata": {},
   "outputs": [
    {
     "data": {
      "application/vnd.jupyter.widget-view+json": {
       "model_id": "0394d662-aaac-426f-8cea-4d54f8991943",
       "version_major": 2,
       "version_minor": 0
      },
      "method": "display_data"
     },
     "metadata": {},
     "output_type": "display_data"
    }
   ],
   "source": [
    "select * from maiorDoenca"
   ]
  },
  {
   "cell_type": "code",
   "execution_count": 21,
   "metadata": {},
   "outputs": [
    {
     "data": {
      "application/vnd.jupyter.widget-view+json": {
       "model_id": "dd3806d3-6502-4c48-b53c-060b19343e1b",
       "version_major": 2,
       "version_minor": 0
      },
      "method": "display_data"
     },
     "metadata": {},
     "output_type": "display_data"
    }
   ],
   "source": [
    "select md1.pais, md1.disease, md1.mediaTaxa from maiorDoenca as md1\n",
    "where md1.disease in (select top 1 md2.disease from maiorDoenca as md2\n",
    "                    where md1.pais = md2.pais\n",
    "                    order by mediaTaxa desc)"
   ]
  },
  {
   "cell_type": "code",
   "execution_count": 83,
   "metadata": {},
   "outputs": [
    {
     "data": {
      "text/plain": [
       "depressao"
      ]
     },
     "execution_count": 83,
     "metadata": {},
     "output_type": "execute_result"
    }
   ],
   "source": [
    "select top 1 disease from maiorDoenca\n",
    "where pais = 'Afghanistan'\n",
    "order by mediaTaxa desc"
   ]
  },
  {
   "cell_type": "markdown",
   "metadata": {},
   "source": [
    "### Selecionando a maior média, ou seja, a doença mais prevalente"
   ]
  },
  {
   "cell_type": "code",
   "execution_count": 75,
   "metadata": {},
   "outputs": [
    {
     "data": {
      "application/vnd.jupyter.widget-view+json": {
       "model_id": "bb7675b7-86f2-4222-9d94-f4a64e9b92d2",
       "version_major": 2,
       "version_minor": 0
      },
      "method": "display_data"
     },
     "metadata": {},
     "output_type": "display_data"
    }
   ],
   "source": [
    "select pais, max(mediaTaxa) from maiorDoenca\n",
    "group by pais\n",
    "order by pais"
   ]
  },
  {
   "cell_type": "markdown",
   "metadata": {},
   "source": [
    "## Comparando as doenças mais prevalentes por coluna"
   ]
  },
  {
   "cell_type": "code",
   "execution_count": 7,
   "metadata": {},
   "outputs": [],
   "source": [
    "DROP TABLE IF EXISTS doencaPrevalente;\n",
    "\n",
    "CREATE TABLE doencaPrevalente (\n",
    "    pais VARCHAR(60) NOT NULL,\n",
    "    ano INT NOT NULL,\n",
    "    RatesDeaths DOUBLE,\n",
    "    depressao DOUBLE NOT NULL,\n",
    "    ansiedade DOUBLE NOT NULL,\n",
    "    bipolaridade DOUBLE NOT NULL,\n",
    "    alimentar DOUBLE NOT NULL,\n",
    "    esquizofrenia DOUBLE NOT NULL,\n",
    "    maior1 VARCHAR(20),\n",
    "    maior2 VARCHAR(20),\n",
    "    maior3 VARCHAR(20)\n",
    ") as  Select RatesDeathsSuicide.pais, RatesDeathsSuicide.ano, RatesDeaths, depressao, ansiedade, bipolaridade, alimentar, esquizofrenia, null, null, null \n",
    "from RatesDeathsSuicide, MentalHealthIssues, maioresTaxas\n",
    "where RatesDeathsSuicide.pais = MentalHealthIssues.pais\n",
    "and RatesDeathsSuicide.ano = MentalHealthIssues.ano\n",
    "and maioresTaxas.pais = RatesDeathsSuicide.pais\n",
    "and RatesDeaths IS NOT NULL\n",
    "order by pais"
   ]
  },
  {
   "cell_type": "markdown",
   "metadata": {},
   "source": [
    "### Selcionando a primeira maior doença\n",
    "* Para fazer a segunda e a terceira maior será necessário zerar o campo da mior anterior para poder comparar as colunas"
   ]
  },
  {
   "cell_type": "code",
   "execution_count": 8,
   "metadata": {},
   "outputs": [],
   "source": [
    "update doencaPrevalente \n",
    "set maior1 = 'depressao'\n",
    "where depressao > ansiedade\n",
    "and depressao > bipolaridade\n",
    "and depressao > alimentar\n",
    "and depressao > esquizofrenia"
   ]
  },
  {
   "cell_type": "code",
   "execution_count": 9,
   "metadata": {},
   "outputs": [
    {
     "data": {
      "application/vnd.jupyter.widget-view+json": {
       "model_id": "21c9480e-9e86-481e-867b-5bc51c096145",
       "version_major": 2,
       "version_minor": 0
      },
      "method": "display_data"
     },
     "metadata": {},
     "output_type": "display_data"
    }
   ],
   "source": [
    "select * from doencaPrevalente"
   ]
  },
  {
   "cell_type": "markdown",
   "metadata": {},
   "source": [
    "# Tabelas de taxa de suicício e doenças separadas por ano para os 10 primeiros paises com maior taxa"
   ]
  },
  {
   "cell_type": "markdown",
   "metadata": {},
   "source": [
    "## Belarus"
   ]
  },
  {
   "cell_type": "code",
   "execution_count": 24,
   "metadata": {},
   "outputs": [
    {
     "data": {
      "application/vnd.jupyter.widget-view+json": {
       "model_id": "2f235554-dbd6-4112-a48d-7cdc855d71cd",
       "version_major": 2,
       "version_minor": 0
      },
      "method": "display_data"
     },
     "metadata": {},
     "output_type": "display_data"
    }
   ],
   "source": [
    "Select distinct RatesDeathsSuicide.pais, RatesDeathsSuicide.ano, RatesDeaths, depressao, ansiedade, bipolaridade, alimentar, esquizofrenia \n",
    "from RatesDeathsSuicide, MentalHealthIssues, maioresTaxas\n",
    "where RatesDeathsSuicide.pais = MentalHealthIssues.pais\n",
    "and RatesDeathsSuicide.ano = MentalHealthIssues.ano\n",
    "and RatesDeathsSuicide.pais = 'Belarus'\n",
    "and RatesDeaths IS NOT NULL\n",
    "order by ano"
   ]
  },
  {
   "cell_type": "markdown",
   "metadata": {},
   "source": [
    "## Eastern Europe"
   ]
  },
  {
   "cell_type": "code",
   "execution_count": 25,
   "metadata": {},
   "outputs": [
    {
     "data": {
      "application/vnd.jupyter.widget-view+json": {
       "model_id": "e90d9c0f-e9ff-44de-a960-adbbde6b7720",
       "version_major": 2,
       "version_minor": 0
      },
      "method": "display_data"
     },
     "metadata": {},
     "output_type": "display_data"
    }
   ],
   "source": [
    "Select distinct RatesDeathsSuicide.pais, RatesDeathsSuicide.ano, RatesDeaths, depressao, ansiedade, bipolaridade, alimentar, esquizofrenia \n",
    "from RatesDeathsSuicide, MentalHealthIssues, maioresTaxas\n",
    "where RatesDeathsSuicide.pais = MentalHealthIssues.pais\n",
    "and RatesDeathsSuicide.ano = MentalHealthIssues.ano\n",
    "and RatesDeathsSuicide.pais = 'Eastern Europe'\n",
    "and RatesDeaths IS NOT NULL\n",
    "order by ano"
   ]
  },
  {
   "cell_type": "markdown",
   "metadata": {},
   "source": [
    "## Greenland"
   ]
  },
  {
   "cell_type": "code",
   "execution_count": 27,
   "metadata": {},
   "outputs": [
    {
     "data": {
      "application/vnd.jupyter.widget-view+json": {
       "model_id": "163464f0-e143-4c55-8dd6-e61a6880317b",
       "version_major": 2,
       "version_minor": 0
      },
      "method": "display_data"
     },
     "metadata": {},
     "output_type": "display_data"
    }
   ],
   "source": [
    "Select distinct RatesDeathsSuicide.pais, RatesDeathsSuicide.ano, RatesDeaths, depressao, ansiedade, bipolaridade, alimentar, esquizofrenia \n",
    "from RatesDeathsSuicide, MentalHealthIssues, maioresTaxas\n",
    "where RatesDeathsSuicide.pais = MentalHealthIssues.pais\n",
    "and RatesDeathsSuicide.ano = MentalHealthIssues.ano\n",
    "and RatesDeathsSuicide.pais = 'Greenland'\n",
    "and RatesDeaths IS NOT NULL\n",
    "order by ano"
   ]
  },
  {
   "cell_type": "markdown",
   "metadata": {},
   "source": [
    "## Kazakhstan"
   ]
  },
  {
   "cell_type": "code",
   "execution_count": 29,
   "metadata": {},
   "outputs": [
    {
     "data": {
      "application/vnd.jupyter.widget-view+json": {
       "model_id": "3fb1604d-2934-401e-98af-516200dd8b58",
       "version_major": 2,
       "version_minor": 0
      },
      "method": "display_data"
     },
     "metadata": {},
     "output_type": "display_data"
    }
   ],
   "source": [
    "Select distinct RatesDeathsSuicide.pais, RatesDeathsSuicide.ano, RatesDeaths, depressao, ansiedade, bipolaridade, alimentar, esquizofrenia \n",
    "from RatesDeathsSuicide, MentalHealthIssues, maioresTaxas\n",
    "where RatesDeathsSuicide.pais = MentalHealthIssues.pais\n",
    "and RatesDeathsSuicide.ano = MentalHealthIssues.ano\n",
    "and RatesDeathsSuicide.pais = 'Kazakhstan'\n",
    "and RatesDeaths IS NOT NULL\n",
    "order by ano"
   ]
  },
  {
   "cell_type": "markdown",
   "metadata": {},
   "source": [
    "## Kiribati"
   ]
  },
  {
   "cell_type": "code",
   "execution_count": 30,
   "metadata": {},
   "outputs": [
    {
     "data": {
      "application/vnd.jupyter.widget-view+json": {
       "model_id": "6de6e248-b2fe-4bc7-9847-ee7f1a12c5f0",
       "version_major": 2,
       "version_minor": 0
      },
      "method": "display_data"
     },
     "metadata": {},
     "output_type": "display_data"
    }
   ],
   "source": [
    "Select distinct RatesDeathsSuicide.pais, RatesDeathsSuicide.ano, RatesDeaths, depressao, ansiedade, bipolaridade, alimentar, esquizofrenia \n",
    "from RatesDeathsSuicide, MentalHealthIssues, maioresTaxas\n",
    "where RatesDeathsSuicide.pais = MentalHealthIssues.pais\n",
    "and RatesDeathsSuicide.ano = MentalHealthIssues.ano\n",
    "and RatesDeathsSuicide.pais = 'Kiribati'\n",
    "and RatesDeaths IS NOT NULL\n",
    "order by ano"
   ]
  },
  {
   "cell_type": "markdown",
   "metadata": {},
   "source": [
    "## Lesotho"
   ]
  },
  {
   "cell_type": "code",
   "execution_count": 31,
   "metadata": {},
   "outputs": [
    {
     "data": {
      "application/vnd.jupyter.widget-view+json": {
       "model_id": "57455aad-36f5-41a0-91c8-36f7030b74b4",
       "version_major": 2,
       "version_minor": 0
      },
      "method": "display_data"
     },
     "metadata": {},
     "output_type": "display_data"
    }
   ],
   "source": [
    "Select distinct RatesDeathsSuicide.pais, RatesDeathsSuicide.ano, RatesDeaths, depressao, ansiedade, bipolaridade, alimentar, esquizofrenia \n",
    "from RatesDeathsSuicide, MentalHealthIssues, maioresTaxas\n",
    "where RatesDeathsSuicide.pais = MentalHealthIssues.pais\n",
    "and RatesDeathsSuicide.ano = MentalHealthIssues.ano\n",
    "and RatesDeathsSuicide.pais = 'Lesotho'\n",
    "and RatesDeaths IS NOT NULL\n",
    "order by ano"
   ]
  },
  {
   "cell_type": "markdown",
   "metadata": {},
   "source": [
    "## Lithuania"
   ]
  },
  {
   "cell_type": "code",
   "execution_count": 32,
   "metadata": {},
   "outputs": [
    {
     "data": {
      "application/vnd.jupyter.widget-view+json": {
       "model_id": "3619d9c2-3d9b-425e-b715-c93c402dc301",
       "version_major": 2,
       "version_minor": 0
      },
      "method": "display_data"
     },
     "metadata": {},
     "output_type": "display_data"
    }
   ],
   "source": [
    "Select distinct RatesDeathsSuicide.pais, RatesDeathsSuicide.ano, RatesDeaths, depressao, ansiedade, bipolaridade, alimentar, esquizofrenia \n",
    "from RatesDeathsSuicide, MentalHealthIssues, maioresTaxas\n",
    "where RatesDeathsSuicide.pais = MentalHealthIssues.pais\n",
    "and RatesDeathsSuicide.ano = MentalHealthIssues.ano\n",
    "and RatesDeathsSuicide.pais = 'Lithuania'\n",
    "and RatesDeaths IS NOT NULL\n",
    "order by ano"
   ]
  },
  {
   "cell_type": "markdown",
   "metadata": {},
   "source": [
    "## Russia"
   ]
  },
  {
   "cell_type": "code",
   "execution_count": 33,
   "metadata": {},
   "outputs": [
    {
     "data": {
      "application/vnd.jupyter.widget-view+json": {
       "model_id": "fd2fdaa4-efc2-412d-84d0-3be166784432",
       "version_major": 2,
       "version_minor": 0
      },
      "method": "display_data"
     },
     "metadata": {},
     "output_type": "display_data"
    }
   ],
   "source": [
    "Select distinct RatesDeathsSuicide.pais, RatesDeathsSuicide.ano, RatesDeaths, depressao, ansiedade, bipolaridade, alimentar, esquizofrenia \n",
    "from RatesDeathsSuicide, MentalHealthIssues, maioresTaxas\n",
    "where RatesDeathsSuicide.pais = MentalHealthIssues.pais\n",
    "and RatesDeathsSuicide.ano = MentalHealthIssues.ano\n",
    "and RatesDeathsSuicide.pais = 'Russia'\n",
    "and RatesDeaths IS NOT NULL\n",
    "order by ano"
   ]
  },
  {
   "cell_type": "markdown",
   "metadata": {},
   "source": [
    "## Sri Lanka"
   ]
  },
  {
   "cell_type": "code",
   "execution_count": 34,
   "metadata": {},
   "outputs": [
    {
     "data": {
      "application/vnd.jupyter.widget-view+json": {
       "model_id": "25ac4243-e3bf-4c6b-8008-deb15a43cffc",
       "version_major": 2,
       "version_minor": 0
      },
      "method": "display_data"
     },
     "metadata": {},
     "output_type": "display_data"
    }
   ],
   "source": [
    "Select distinct RatesDeathsSuicide.pais, RatesDeathsSuicide.ano, RatesDeaths, depressao, ansiedade, bipolaridade, alimentar, esquizofrenia \n",
    "from RatesDeathsSuicide, MentalHealthIssues, maioresTaxas\n",
    "where RatesDeathsSuicide.pais = MentalHealthIssues.pais\n",
    "and RatesDeathsSuicide.ano = MentalHealthIssues.ano\n",
    "and RatesDeathsSuicide.pais = 'Sri Lanka'\n",
    "and RatesDeaths IS NOT NULL\n",
    "order by ano"
   ]
  },
  {
   "cell_type": "markdown",
   "metadata": {},
   "source": [
    "## Zimbabwe"
   ]
  },
  {
   "cell_type": "code",
   "execution_count": 35,
   "metadata": {},
   "outputs": [
    {
     "data": {
      "application/vnd.jupyter.widget-view+json": {
       "model_id": "b7b98c51-5124-4f93-bc25-8a6ed573e21c",
       "version_major": 2,
       "version_minor": 0
      },
      "method": "display_data"
     },
     "metadata": {},
     "output_type": "display_data"
    }
   ],
   "source": [
    "Select distinct RatesDeathsSuicide.pais, RatesDeathsSuicide.ano, RatesDeaths, depressao, ansiedade, bipolaridade, alimentar, esquizofrenia \n",
    "from RatesDeathsSuicide, MentalHealthIssues, maioresTaxas\n",
    "where RatesDeathsSuicide.pais = MentalHealthIssues.pais\n",
    "and RatesDeathsSuicide.ano = MentalHealthIssues.ano\n",
    "and RatesDeathsSuicide.pais = 'Zimbabwe'\n",
    "and RatesDeaths IS NOT NULL\n",
    "order by ano"
   ]
  },
  {
   "cell_type": "code",
   "execution_count": null,
   "metadata": {},
   "outputs": [],
   "source": []
  }
 ],
 "metadata": {
  "kernelspec": {
   "display_name": "SQL",
   "language": "SQL",
   "name": "sql"
  },
  "language_info": {
   "codemirror_mode": "sql",
   "file_extension": ".sql",
   "mimetype": "",
   "name": "SQL",
   "nbconverter_exporter": "",
   "version": ""
  },
  "toc": {
   "base_numbering": 1,
   "nav_menu": {},
   "number_sections": false,
   "sideBar": false,
   "skip_h1_title": false,
   "title_cell": "Table of Contents",
   "title_sidebar": "Contents",
   "toc_cell": false,
   "toc_position": {},
   "toc_section_display": false,
   "toc_window_display": false
  }
 },
 "nbformat": 4,
 "nbformat_minor": 4
}
